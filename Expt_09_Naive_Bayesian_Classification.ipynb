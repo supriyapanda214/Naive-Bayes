{
  "nbformat": 4,
  "nbformat_minor": 0,
  "metadata": {
    "colab": {
      "provenance": []
    },
    "kernelspec": {
      "name": "python3",
      "display_name": "Python 3"
    },
    "language_info": {
      "name": "python"
    }
  },
  "cells": [
    {
      "cell_type": "code",
      "source": [
        "import pandas as pd\n",
        "\n",
        "# Create a DataFrame for the given dataset\n",
        "data = {\n",
        "    'Day': ['D1', 'D2', 'D3', 'D4', 'D5', 'D6', 'D7', 'D8', 'D9', 'D10', 'D11', 'D12', 'D13', 'D14'],\n",
        "    'Outlook': ['Sunny', 'Sunny', 'Overcast', 'Rain', 'Rain', 'Rain', 'Overcast', 'Sunny', 'Sunny', 'Rain', 'Sunny', 'Overcast', 'Overcast', 'Rain'],\n",
        "    'Temp': ['Hot', 'Hot', 'Hot', 'Mild', 'Cool', 'Cool', 'Cool', 'Mild', 'Cool', 'Mild', 'Mild', 'Mild', 'Hot', 'Mild'],\n",
        "    'Humidity': ['High', 'High', 'High', 'High', 'Normal', 'Normal', 'Normal', 'High', 'Normal', 'Normal', 'Normal', 'High', 'Normal', 'High'],\n",
        "    'Wind': ['Weak', 'Strong', 'Weak', 'Weak', 'Weak', 'Strong', 'Strong', 'Weak', 'Weak', 'Weak', 'Strong', 'Strong', 'Weak', 'Strong'],\n",
        "    'Play': ['No', 'No', 'Yes', 'Yes', 'Yes', 'No', 'Yes', 'No', 'Yes', 'Yes', 'Yes', 'Yes', 'Yes', 'No']\n",
        "}\n",
        "\n",
        "df = pd.DataFrame(data)\n",
        "\n",
        "# Calculate prior probabilities P(Yes) and P(No)\n",
        "total_instances = df.shape[0]\n",
        "num_yes = df[df['Play'] == 'Yes'].shape[0]\n",
        "num_no = df[df['Play'] == 'No'].shape[0]\n",
        "p_yes = num_yes / total_instances\n",
        "p_no = num_no / total_instances\n",
        "\n",
        "# Define the new data point\n",
        "new_data = {'Outlook': 'Rain', 'Temp': 'Hot', 'Humidity': 'Normal', 'Wind': 'Strong'}\n",
        "\n",
        "# Calculate the conditional probabilities for each attribute given the class\n",
        "conditional_probs = {}\n",
        "for col in df.columns[1:-1]:  # Exclude 'Day' and 'Play' columns\n",
        "    for label in df[col].unique():\n",
        "        for play in df['Play'].unique():\n",
        "            num_with_label_and_play = df[(df[col] == label) & (df['Play'] == play)].shape[0]\n",
        "            num_with_play = df[df['Play'] == play].shape[0]\n",
        "            prob_key = f'P({col}={label}|Play={play})'\n",
        "            conditional_probs[prob_key] = num_with_label_and_play / num_with_play\n",
        "\n",
        "# Calculate the posterior probabilities\n",
        "posterior_probs = {}\n",
        "for play in df['Play'].unique():\n",
        "    posterior_prob = p_yes if play == 'Yes' else p_no\n",
        "    for col, label in new_data.items():\n",
        "        prob_key = f'P({col}={label}|Play={play})'\n",
        "        posterior_prob *= conditional_probs[prob_key]\n",
        "    posterior_probs[play] = posterior_prob\n",
        "\n",
        "# Classify the new data point\n",
        "predicted_class = max(posterior_probs, key=posterior_probs.get)\n",
        "print(f\"The predicted class for the new data point is: {predicted_class}\")\n"
      ],
      "metadata": {
        "colab": {
          "base_uri": "https://localhost:8080/"
        },
        "id": "p2tSJxZ74tYw",
        "outputId": "b44e75ee-8472-43ab-e61b-b863fddbe21d"
      },
      "execution_count": null,
      "outputs": [
        {
          "output_type": "stream",
          "name": "stdout",
          "text": [
            "The predicted class for the new data point is: Yes\n"
          ]
        }
      ]
    }
  ]
}